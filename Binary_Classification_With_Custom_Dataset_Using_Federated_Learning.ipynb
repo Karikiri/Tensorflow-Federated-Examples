{
  "nbformat": 4,
  "nbformat_minor": 0,
  "metadata": {
    "colab": {
      "provenance": [],
      "collapsed_sections": [],
      "authorship_tag": "ABX9TyO2TKQKUU3UnVuUhN6nHwNR",
      "include_colab_link": true
    },
    "kernelspec": {
      "name": "python3",
      "display_name": "Python 3"
    },
    "language_info": {
      "name": "python"
    }
  },
  "cells": [
    {
      "cell_type": "markdown",
      "metadata": {
        "id": "view-in-github",
        "colab_type": "text"
      },
      "source": [
        "<a href=\"https://colab.research.google.com/github/Karikiri/Tensorflow-Federated-Examples/blob/main/Binary_Classification_With_Custom_Dataset_Using_Federated_Learning.ipynb\" target=\"_parent\"><img src=\"https://colab.research.google.com/assets/colab-badge.svg\" alt=\"Open In Colab\"/></a>"
      ]
    },
    {
      "cell_type": "code",
      "execution_count": 1,
      "metadata": {
        "colab": {
          "base_uri": "https://localhost:8080/"
        },
        "id": "0YN4Y7Jt28kE",
        "outputId": "c2e98502-9190-4bb0-fbd5-0c402948c804"
      },
      "outputs": [
        {
          "output_type": "stream",
          "name": "stdout",
          "text": [
            "\u001b[?25l\r\u001b[K     |▍                               | 10 kB 25.5 MB/s eta 0:00:01\r\u001b[K     |▉                               | 20 kB 30.3 MB/s eta 0:00:01\r\u001b[K     |█▏                              | 30 kB 35.6 MB/s eta 0:00:01\r\u001b[K     |█▋                              | 40 kB 31.2 MB/s eta 0:00:01\r\u001b[K     |██                              | 51 kB 23.2 MB/s eta 0:00:01\r\u001b[K     |██▍                             | 61 kB 26.0 MB/s eta 0:00:01\r\u001b[K     |██▉                             | 71 kB 25.8 MB/s eta 0:00:01\r\u001b[K     |███▏                            | 81 kB 27.3 MB/s eta 0:00:01\r\u001b[K     |███▋                            | 92 kB 29.7 MB/s eta 0:00:01\r\u001b[K     |████                            | 102 kB 31.2 MB/s eta 0:00:01\r\u001b[K     |████▍                           | 112 kB 31.2 MB/s eta 0:00:01\r\u001b[K     |████▉                           | 122 kB 31.2 MB/s eta 0:00:01\r\u001b[K     |█████▏                          | 133 kB 31.2 MB/s eta 0:00:01\r\u001b[K     |█████▋                          | 143 kB 31.2 MB/s eta 0:00:01\r\u001b[K     |██████                          | 153 kB 31.2 MB/s eta 0:00:01\r\u001b[K     |██████▍                         | 163 kB 31.2 MB/s eta 0:00:01\r\u001b[K     |██████▉                         | 174 kB 31.2 MB/s eta 0:00:01\r\u001b[K     |███████▏                        | 184 kB 31.2 MB/s eta 0:00:01\r\u001b[K     |███████▋                        | 194 kB 31.2 MB/s eta 0:00:01\r\u001b[K     |████████                        | 204 kB 31.2 MB/s eta 0:00:01\r\u001b[K     |████████▍                       | 215 kB 31.2 MB/s eta 0:00:01\r\u001b[K     |████████▉                       | 225 kB 31.2 MB/s eta 0:00:01\r\u001b[K     |█████████▏                      | 235 kB 31.2 MB/s eta 0:00:01\r\u001b[K     |█████████▋                      | 245 kB 31.2 MB/s eta 0:00:01\r\u001b[K     |██████████                      | 256 kB 31.2 MB/s eta 0:00:01\r\u001b[K     |██████████▍                     | 266 kB 31.2 MB/s eta 0:00:01\r\u001b[K     |██████████▉                     | 276 kB 31.2 MB/s eta 0:00:01\r\u001b[K     |███████████▏                    | 286 kB 31.2 MB/s eta 0:00:01\r\u001b[K     |███████████▋                    | 296 kB 31.2 MB/s eta 0:00:01\r\u001b[K     |████████████                    | 307 kB 31.2 MB/s eta 0:00:01\r\u001b[K     |████████████▍                   | 317 kB 31.2 MB/s eta 0:00:01\r\u001b[K     |████████████▉                   | 327 kB 31.2 MB/s eta 0:00:01\r\u001b[K     |█████████████▏                  | 337 kB 31.2 MB/s eta 0:00:01\r\u001b[K     |█████████████▋                  | 348 kB 31.2 MB/s eta 0:00:01\r\u001b[K     |██████████████                  | 358 kB 31.2 MB/s eta 0:00:01\r\u001b[K     |██████████████▍                 | 368 kB 31.2 MB/s eta 0:00:01\r\u001b[K     |██████████████▉                 | 378 kB 31.2 MB/s eta 0:00:01\r\u001b[K     |███████████████▏                | 389 kB 31.2 MB/s eta 0:00:01\r\u001b[K     |███████████████▋                | 399 kB 31.2 MB/s eta 0:00:01\r\u001b[K     |████████████████                | 409 kB 31.2 MB/s eta 0:00:01\r\u001b[K     |████████████████▍               | 419 kB 31.2 MB/s eta 0:00:01\r\u001b[K     |████████████████▉               | 430 kB 31.2 MB/s eta 0:00:01\r\u001b[K     |█████████████████▏              | 440 kB 31.2 MB/s eta 0:00:01\r\u001b[K     |█████████████████▋              | 450 kB 31.2 MB/s eta 0:00:01\r\u001b[K     |██████████████████              | 460 kB 31.2 MB/s eta 0:00:01\r\u001b[K     |██████████████████▍             | 471 kB 31.2 MB/s eta 0:00:01\r\u001b[K     |██████████████████▉             | 481 kB 31.2 MB/s eta 0:00:01\r\u001b[K     |███████████████████▏            | 491 kB 31.2 MB/s eta 0:00:01\r\u001b[K     |███████████████████▋            | 501 kB 31.2 MB/s eta 0:00:01\r\u001b[K     |████████████████████            | 512 kB 31.2 MB/s eta 0:00:01\r\u001b[K     |████████████████████▍           | 522 kB 31.2 MB/s eta 0:00:01\r\u001b[K     |████████████████████▉           | 532 kB 31.2 MB/s eta 0:00:01\r\u001b[K     |█████████████████████▏          | 542 kB 31.2 MB/s eta 0:00:01\r\u001b[K     |█████████████████████▋          | 552 kB 31.2 MB/s eta 0:00:01\r\u001b[K     |██████████████████████          | 563 kB 31.2 MB/s eta 0:00:01\r\u001b[K     |██████████████████████▍         | 573 kB 31.2 MB/s eta 0:00:01\r\u001b[K     |██████████████████████▉         | 583 kB 31.2 MB/s eta 0:00:01\r\u001b[K     |███████████████████████▏        | 593 kB 31.2 MB/s eta 0:00:01\r\u001b[K     |███████████████████████▋        | 604 kB 31.2 MB/s eta 0:00:01\r\u001b[K     |████████████████████████        | 614 kB 31.2 MB/s eta 0:00:01\r\u001b[K     |████████████████████████▍       | 624 kB 31.2 MB/s eta 0:00:01\r\u001b[K     |████████████████████████▉       | 634 kB 31.2 MB/s eta 0:00:01\r\u001b[K     |█████████████████████████▏      | 645 kB 31.2 MB/s eta 0:00:01\r\u001b[K     |█████████████████████████▋      | 655 kB 31.2 MB/s eta 0:00:01\r\u001b[K     |██████████████████████████      | 665 kB 31.2 MB/s eta 0:00:01\r\u001b[K     |██████████████████████████▍     | 675 kB 31.2 MB/s eta 0:00:01\r\u001b[K     |██████████████████████████▊     | 686 kB 31.2 MB/s eta 0:00:01\r\u001b[K     |███████████████████████████▏    | 696 kB 31.2 MB/s eta 0:00:01\r\u001b[K     |███████████████████████████▋    | 706 kB 31.2 MB/s eta 0:00:01\r\u001b[K     |████████████████████████████    | 716 kB 31.2 MB/s eta 0:00:01\r\u001b[K     |████████████████████████████▍   | 727 kB 31.2 MB/s eta 0:00:01\r\u001b[K     |████████████████████████████▊   | 737 kB 31.2 MB/s eta 0:00:01\r\u001b[K     |█████████████████████████████▏  | 747 kB 31.2 MB/s eta 0:00:01\r\u001b[K     |█████████████████████████████▋  | 757 kB 31.2 MB/s eta 0:00:01\r\u001b[K     |██████████████████████████████  | 768 kB 31.2 MB/s eta 0:00:01\r\u001b[K     |██████████████████████████████▍ | 778 kB 31.2 MB/s eta 0:00:01\r\u001b[K     |██████████████████████████████▊ | 788 kB 31.2 MB/s eta 0:00:01\r\u001b[K     |███████████████████████████████▏| 798 kB 31.2 MB/s eta 0:00:01\r\u001b[K     |███████████████████████████████▋| 808 kB 31.2 MB/s eta 0:00:01\r\u001b[K     |████████████████████████████████| 819 kB 31.2 MB/s eta 0:00:01\r\u001b[K     |████████████████████████████████| 819 kB 31.2 MB/s \n",
            "\u001b[K     |████████████████████████████████| 126 kB 73.5 MB/s \n",
            "\u001b[K     |████████████████████████████████| 887 kB 69.7 MB/s \n",
            "\u001b[K     |████████████████████████████████| 251 kB 70.0 MB/s \n",
            "\u001b[K     |████████████████████████████████| 238 kB 72.4 MB/s \n",
            "\u001b[K     |████████████████████████████████| 121 kB 73.0 MB/s \n",
            "\u001b[K     |████████████████████████████████| 53 kB 2.7 MB/s \n",
            "\u001b[K     |████████████████████████████████| 65.1 MB 94 kB/s \n",
            "\u001b[K     |████████████████████████████████| 4.0 MB 54.6 MB/s \n",
            "\u001b[K     |████████████████████████████████| 45 kB 2.1 MB/s \n",
            "\u001b[?25h  Building wheel for jax (setup.py) ... \u001b[?25l\u001b[?25hdone\n",
            "\u001b[31mERROR: pip's dependency resolver does not currently take into account all the packages that are installed. This behaviour is the source of the following dependency conflicts.\n",
            "spacy 3.4.1 requires tqdm<5.0.0,>=4.38.0, but you have tqdm 4.28.1 which is incompatible.\n",
            "pymc 4.1.4 requires cachetools>=4.2.1, but you have cachetools 3.1.1 which is incompatible.\n",
            "prophet 1.1 requires tqdm>=4.36.1, but you have tqdm 4.28.1 which is incompatible.\n",
            "panel 0.12.1 requires tqdm>=4.48.0, but you have tqdm 4.28.1 which is incompatible.\u001b[0m\n"
          ]
        }
      ],
      "source": [
        "!pip install --quiet --upgrade tensorflow-federated==0.20.0\n",
        "!pip install --quiet --upgrade nest-asyncio\n",
        "\n",
        "import nest_asyncio\n",
        "nest_asyncio.apply()"
      ]
    },
    {
      "cell_type": "code",
      "source": [
        "import collections\n",
        "import functools\n",
        "import os\n",
        "import time\n",
        "import datetime\n",
        "\n",
        "import pandas as pd\n",
        "import numpy as np\n",
        "import tensorflow as tf\n",
        "import tensorflow_federated as tff\n",
        "from tensorflow import keras\n",
        "\n",
        "import IPython\n",
        "import IPython.display\n",
        "import matplotlib as mpl\n",
        "import matplotlib.pyplot as plt\n",
        "import seaborn as sns\n",
        "\n",
        "from sklearn.preprocessing import StandardScaler\n",
        "\n",
        "from keras.models import Sequential\n",
        "from keras.layers import Input, CuDNNLSTM, Dense, Flatten\n",
        "from keras.layers.embeddings import Embedding\n",
        "from tensorflow.keras import layers\n",
        "import keras.backend as K\n",
        "\n",
        "np.random.seed(0)\n",
        "\n",
        "# Test the TFF is working:\n",
        "tff.federated_computation(lambda: 'Hello, World!')()"
      ],
      "metadata": {
        "colab": {
          "base_uri": "https://localhost:8080/"
        },
        "id": "r6yDQm8W3IFp",
        "outputId": "f5d1a4ad-7348-4701-f2e7-c0cf16a3d951"
      },
      "execution_count": 2,
      "outputs": [
        {
          "output_type": "execute_result",
          "data": {
            "text/plain": [
              "b'Hello, World!'"
            ]
          },
          "metadata": {},
          "execution_count": 2
        }
      ]
    },
    {
      "cell_type": "code",
      "source": [
        "# Create a custom dataset with random integers\n",
        "# Let [A,B,C,D] be features | Let [E] be label\n",
        "df = pd.DataFrame(np.random.randint(0,100,size=(100, 5)), columns=list('ABCDE'))\n",
        "print(df)"
      ],
      "metadata": {
        "colab": {
          "base_uri": "https://localhost:8080/"
        },
        "id": "RdzS0v-H3IIX",
        "outputId": "555d3ae3-0c3a-4d36-d2e6-e0eaa6d31c41"
      },
      "execution_count": 3,
      "outputs": [
        {
          "output_type": "stream",
          "name": "stdout",
          "text": [
            "     A   B   C   D   E\n",
            "0   44  47  64  67  67\n",
            "1    9  83  21  36  87\n",
            "2   70  88  88  12  58\n",
            "3   65  39  87  46  88\n",
            "4   81  37  25  77  72\n",
            "..  ..  ..  ..  ..  ..\n",
            "95  47  10  94  91  43\n",
            "96  63  31  20  70   9\n",
            "97  60  91  35  83  76\n",
            "98  18  74  98  97  43\n",
            "99   3  12  58   1   0\n",
            "\n",
            "[100 rows x 5 columns]\n"
          ]
        }
      ]
    },
    {
      "cell_type": "code",
      "source": [],
      "metadata": {
        "id": "PNWg1SdV43-V"
      },
      "execution_count": 3,
      "outputs": []
    },
    {
      "cell_type": "code",
      "source": [],
      "metadata": {
        "id": "wJPKDxUw5Mxd"
      },
      "execution_count": 3,
      "outputs": []
    },
    {
      "cell_type": "code",
      "source": [],
      "metadata": {
        "id": "hopA6_yS5M0M"
      },
      "execution_count": 3,
      "outputs": []
    },
    {
      "cell_type": "code",
      "source": [],
      "metadata": {
        "id": "N5estdpR44A-"
      },
      "execution_count": 3,
      "outputs": []
    },
    {
      "cell_type": "code",
      "source": [],
      "metadata": {
        "id": "5N97Va9x44Dt"
      },
      "execution_count": 3,
      "outputs": []
    },
    {
      "cell_type": "code",
      "source": [],
      "metadata": {
        "id": "BO_SmPnv44HO"
      },
      "execution_count": 3,
      "outputs": []
    },
    {
      "cell_type": "code",
      "source": [],
      "metadata": {
        "id": "Dp7JRwtZ3IOU"
      },
      "execution_count": 3,
      "outputs": []
    }
  ]
}